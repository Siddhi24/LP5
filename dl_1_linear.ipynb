{
 "cells": [
  {
   "cell_type": "code",
   "execution_count": 1,
   "id": "36e90601",
   "metadata": {},
   "outputs": [],
   "source": [
    "\n",
    "import pandas as pd\n",
    "import matplotlib.pyplot as plt"
   ]
  },
  {
   "cell_type": "markdown",
   "id": "09c0d469",
   "metadata": {},
   "source": [
    "### Load Dataset"
   ]
  },
  {
   "cell_type": "code",
   "execution_count": 2,
   "id": "64638d93",
   "metadata": {},
   "outputs": [
    {
     "data": {
      "text/html": [
       "<div>\n",
       "<style scoped>\n",
       "    .dataframe tbody tr th:only-of-type {\n",
       "        vertical-align: middle;\n",
       "    }\n",
       "\n",
       "    .dataframe tbody tr th {\n",
       "        vertical-align: top;\n",
       "    }\n",
       "\n",
       "    .dataframe thead th {\n",
       "        text-align: right;\n",
       "    }\n",
       "</style>\n",
       "<table border=\"1\" class=\"dataframe\">\n",
       "  <thead>\n",
       "    <tr style=\"text-align: right;\">\n",
       "      <th></th>\n",
       "      <th>CRIM</th>\n",
       "      <th>ZN</th>\n",
       "      <th>INDUS</th>\n",
       "      <th>CHAS</th>\n",
       "      <th>NOX</th>\n",
       "      <th>RM</th>\n",
       "      <th>AGE</th>\n",
       "      <th>DIS</th>\n",
       "      <th>RAD</th>\n",
       "      <th>TAX</th>\n",
       "      <th>PTRATIO</th>\n",
       "      <th>B</th>\n",
       "      <th>LSTAT</th>\n",
       "      <th>MEDV</th>\n",
       "      <th>CAT. MEDV</th>\n",
       "      <th>Unnamed: 15</th>\n",
       "      <th>Unnamed: 16</th>\n",
       "    </tr>\n",
       "  </thead>\n",
       "  <tbody>\n",
       "    <tr>\n",
       "      <th>0</th>\n",
       "      <td>0.00632</td>\n",
       "      <td>18.0</td>\n",
       "      <td>2.31</td>\n",
       "      <td>0</td>\n",
       "      <td>0.538</td>\n",
       "      <td>6.575</td>\n",
       "      <td>65.2</td>\n",
       "      <td>4.0900</td>\n",
       "      <td>1</td>\n",
       "      <td>296</td>\n",
       "      <td>15.3</td>\n",
       "      <td>396.90</td>\n",
       "      <td>4.98</td>\n",
       "      <td>24.0</td>\n",
       "      <td>0</td>\n",
       "      <td>NaN</td>\n",
       "      <td>NaN</td>\n",
       "    </tr>\n",
       "    <tr>\n",
       "      <th>1</th>\n",
       "      <td>0.02731</td>\n",
       "      <td>0.0</td>\n",
       "      <td>7.07</td>\n",
       "      <td>0</td>\n",
       "      <td>0.469</td>\n",
       "      <td>6.421</td>\n",
       "      <td>78.9</td>\n",
       "      <td>4.9671</td>\n",
       "      <td>2</td>\n",
       "      <td>242</td>\n",
       "      <td>17.8</td>\n",
       "      <td>396.90</td>\n",
       "      <td>9.14</td>\n",
       "      <td>21.6</td>\n",
       "      <td>0</td>\n",
       "      <td>NaN</td>\n",
       "      <td>NaN</td>\n",
       "    </tr>\n",
       "    <tr>\n",
       "      <th>2</th>\n",
       "      <td>0.02729</td>\n",
       "      <td>0.0</td>\n",
       "      <td>7.07</td>\n",
       "      <td>0</td>\n",
       "      <td>0.469</td>\n",
       "      <td>7.185</td>\n",
       "      <td>61.1</td>\n",
       "      <td>4.9671</td>\n",
       "      <td>2</td>\n",
       "      <td>242</td>\n",
       "      <td>17.8</td>\n",
       "      <td>392.83</td>\n",
       "      <td>4.03</td>\n",
       "      <td>34.7</td>\n",
       "      <td>1</td>\n",
       "      <td>NaN</td>\n",
       "      <td>NaN</td>\n",
       "    </tr>\n",
       "    <tr>\n",
       "      <th>3</th>\n",
       "      <td>0.03237</td>\n",
       "      <td>0.0</td>\n",
       "      <td>2.18</td>\n",
       "      <td>0</td>\n",
       "      <td>0.458</td>\n",
       "      <td>6.998</td>\n",
       "      <td>45.8</td>\n",
       "      <td>6.0622</td>\n",
       "      <td>3</td>\n",
       "      <td>222</td>\n",
       "      <td>18.7</td>\n",
       "      <td>394.63</td>\n",
       "      <td>2.94</td>\n",
       "      <td>33.4</td>\n",
       "      <td>1</td>\n",
       "      <td>NaN</td>\n",
       "      <td>NaN</td>\n",
       "    </tr>\n",
       "    <tr>\n",
       "      <th>4</th>\n",
       "      <td>0.06905</td>\n",
       "      <td>0.0</td>\n",
       "      <td>2.18</td>\n",
       "      <td>0</td>\n",
       "      <td>0.458</td>\n",
       "      <td>7.147</td>\n",
       "      <td>54.2</td>\n",
       "      <td>6.0622</td>\n",
       "      <td>3</td>\n",
       "      <td>222</td>\n",
       "      <td>18.7</td>\n",
       "      <td>396.90</td>\n",
       "      <td>5.33</td>\n",
       "      <td>36.2</td>\n",
       "      <td>1</td>\n",
       "      <td>NaN</td>\n",
       "      <td>NaN</td>\n",
       "    </tr>\n",
       "    <tr>\n",
       "      <th>5</th>\n",
       "      <td>0.02985</td>\n",
       "      <td>0.0</td>\n",
       "      <td>2.18</td>\n",
       "      <td>0</td>\n",
       "      <td>0.458</td>\n",
       "      <td>6.430</td>\n",
       "      <td>58.7</td>\n",
       "      <td>6.0622</td>\n",
       "      <td>3</td>\n",
       "      <td>222</td>\n",
       "      <td>18.7</td>\n",
       "      <td>394.12</td>\n",
       "      <td>5.21</td>\n",
       "      <td>28.7</td>\n",
       "      <td>0</td>\n",
       "      <td>NaN</td>\n",
       "      <td>NaN</td>\n",
       "    </tr>\n",
       "    <tr>\n",
       "      <th>6</th>\n",
       "      <td>0.08829</td>\n",
       "      <td>12.5</td>\n",
       "      <td>7.87</td>\n",
       "      <td>0</td>\n",
       "      <td>0.524</td>\n",
       "      <td>6.012</td>\n",
       "      <td>66.6</td>\n",
       "      <td>5.5605</td>\n",
       "      <td>5</td>\n",
       "      <td>311</td>\n",
       "      <td>15.2</td>\n",
       "      <td>395.60</td>\n",
       "      <td>12.43</td>\n",
       "      <td>22.9</td>\n",
       "      <td>0</td>\n",
       "      <td>NaN</td>\n",
       "      <td>NaN</td>\n",
       "    </tr>\n",
       "    <tr>\n",
       "      <th>7</th>\n",
       "      <td>0.14455</td>\n",
       "      <td>12.5</td>\n",
       "      <td>7.87</td>\n",
       "      <td>0</td>\n",
       "      <td>0.524</td>\n",
       "      <td>6.172</td>\n",
       "      <td>96.1</td>\n",
       "      <td>5.9505</td>\n",
       "      <td>5</td>\n",
       "      <td>311</td>\n",
       "      <td>15.2</td>\n",
       "      <td>396.90</td>\n",
       "      <td>19.15</td>\n",
       "      <td>27.1</td>\n",
       "      <td>0</td>\n",
       "      <td>NaN</td>\n",
       "      <td>NaN</td>\n",
       "    </tr>\n",
       "    <tr>\n",
       "      <th>8</th>\n",
       "      <td>0.21124</td>\n",
       "      <td>12.5</td>\n",
       "      <td>7.87</td>\n",
       "      <td>0</td>\n",
       "      <td>0.524</td>\n",
       "      <td>5.631</td>\n",
       "      <td>100.0</td>\n",
       "      <td>6.0821</td>\n",
       "      <td>5</td>\n",
       "      <td>311</td>\n",
       "      <td>15.2</td>\n",
       "      <td>386.63</td>\n",
       "      <td>29.93</td>\n",
       "      <td>16.5</td>\n",
       "      <td>0</td>\n",
       "      <td>NaN</td>\n",
       "      <td>NaN</td>\n",
       "    </tr>\n",
       "    <tr>\n",
       "      <th>9</th>\n",
       "      <td>0.17004</td>\n",
       "      <td>12.5</td>\n",
       "      <td>7.87</td>\n",
       "      <td>0</td>\n",
       "      <td>0.524</td>\n",
       "      <td>6.004</td>\n",
       "      <td>85.9</td>\n",
       "      <td>6.5921</td>\n",
       "      <td>5</td>\n",
       "      <td>311</td>\n",
       "      <td>15.2</td>\n",
       "      <td>386.71</td>\n",
       "      <td>17.10</td>\n",
       "      <td>18.9</td>\n",
       "      <td>0</td>\n",
       "      <td>NaN</td>\n",
       "      <td>NaN</td>\n",
       "    </tr>\n",
       "  </tbody>\n",
       "</table>\n",
       "</div>"
      ],
      "text/plain": [
       "      CRIM    ZN  INDUS  CHAS    NOX     RM    AGE     DIS  RAD  TAX  PTRATIO  \\\n",
       "0  0.00632  18.0   2.31     0  0.538  6.575   65.2  4.0900    1  296     15.3   \n",
       "1  0.02731   0.0   7.07     0  0.469  6.421   78.9  4.9671    2  242     17.8   \n",
       "2  0.02729   0.0   7.07     0  0.469  7.185   61.1  4.9671    2  242     17.8   \n",
       "3  0.03237   0.0   2.18     0  0.458  6.998   45.8  6.0622    3  222     18.7   \n",
       "4  0.06905   0.0   2.18     0  0.458  7.147   54.2  6.0622    3  222     18.7   \n",
       "5  0.02985   0.0   2.18     0  0.458  6.430   58.7  6.0622    3  222     18.7   \n",
       "6  0.08829  12.5   7.87     0  0.524  6.012   66.6  5.5605    5  311     15.2   \n",
       "7  0.14455  12.5   7.87     0  0.524  6.172   96.1  5.9505    5  311     15.2   \n",
       "8  0.21124  12.5   7.87     0  0.524  5.631  100.0  6.0821    5  311     15.2   \n",
       "9  0.17004  12.5   7.87     0  0.524  6.004   85.9  6.5921    5  311     15.2   \n",
       "\n",
       "        B  LSTAT  MEDV  CAT. MEDV  Unnamed: 15  Unnamed: 16  \n",
       "0  396.90   4.98  24.0          0          NaN          NaN  \n",
       "1  396.90   9.14  21.6          0          NaN          NaN  \n",
       "2  392.83   4.03  34.7          1          NaN          NaN  \n",
       "3  394.63   2.94  33.4          1          NaN          NaN  \n",
       "4  396.90   5.33  36.2          1          NaN          NaN  \n",
       "5  394.12   5.21  28.7          0          NaN          NaN  \n",
       "6  395.60  12.43  22.9          0          NaN          NaN  \n",
       "7  396.90  19.15  27.1          0          NaN          NaN  \n",
       "8  386.63  29.93  16.5          0          NaN          NaN  \n",
       "9  386.71  17.10  18.9          0          NaN          NaN  "
      ]
     },
     "execution_count": 2,
     "metadata": {},
     "output_type": "execute_result"
    }
   ],
   "source": [
    "df = pd.read_csv('Boston.csv')\n",
    "df.head(10)"
   ]
  },
  {
   "cell_type": "code",
   "execution_count": 3,
   "id": "55426a1b",
   "metadata": {},
   "outputs": [],
   "source": [
    "df.drop(columns=['Unnamed: 15','Unnamed: 16'],inplace=True)"
   ]
  },
  {
   "cell_type": "code",
   "execution_count": 4,
   "id": "dade5278",
   "metadata": {},
   "outputs": [],
   "source": [
    "df.drop(columns=['CAT. MEDV'],inplace=True)"
   ]
  },
  {
   "cell_type": "markdown",
   "id": "17d566fe",
   "metadata": {},
   "source": [
    "#### Checking for null values"
   ]
  },
  {
   "cell_type": "code",
   "execution_count": 5,
   "id": "e4792737",
   "metadata": {},
   "outputs": [
    {
     "data": {
      "text/plain": [
       "CRIM       0\n",
       "ZN         0\n",
       "INDUS      0\n",
       "CHAS       0\n",
       "NOX        0\n",
       "RM         0\n",
       "AGE        0\n",
       "DIS        0\n",
       "RAD        0\n",
       "TAX        0\n",
       "PTRATIO    0\n",
       "B          0\n",
       "LSTAT      0\n",
       "MEDV       0\n",
       "dtype: int64"
      ]
     },
     "execution_count": 5,
     "metadata": {},
     "output_type": "execute_result"
    }
   ],
   "source": [
    "df.isnull().sum()"
   ]
  },
  {
   "cell_type": "code",
   "execution_count": 6,
   "id": "036b309e",
   "metadata": {},
   "outputs": [
    {
     "name": "stdout",
     "output_type": "stream",
     "text": [
      "<class 'pandas.core.frame.DataFrame'>\n",
      "RangeIndex: 506 entries, 0 to 505\n",
      "Data columns (total 14 columns):\n",
      " #   Column   Non-Null Count  Dtype  \n",
      "---  ------   --------------  -----  \n",
      " 0   CRIM     506 non-null    float64\n",
      " 1   ZN       506 non-null    float64\n",
      " 2   INDUS    506 non-null    float64\n",
      " 3   CHAS     506 non-null    int64  \n",
      " 4   NOX      506 non-null    float64\n",
      " 5   RM       506 non-null    float64\n",
      " 6   AGE      506 non-null    float64\n",
      " 7   DIS      506 non-null    float64\n",
      " 8   RAD      506 non-null    int64  \n",
      " 9   TAX      506 non-null    int64  \n",
      " 10  PTRATIO  506 non-null    float64\n",
      " 11  B        506 non-null    float64\n",
      " 12  LSTAT    506 non-null    float64\n",
      " 13  MEDV     506 non-null    float64\n",
      "dtypes: float64(11), int64(3)\n",
      "memory usage: 55.5 KB\n"
     ]
    }
   ],
   "source": [
    "df.info()"
   ]
  },
  {
   "cell_type": "code",
   "execution_count": 7,
   "id": "851ae670",
   "metadata": {},
   "outputs": [
    {
     "data": {
      "text/html": [
       "<div>\n",
       "<style scoped>\n",
       "    .dataframe tbody tr th:only-of-type {\n",
       "        vertical-align: middle;\n",
       "    }\n",
       "\n",
       "    .dataframe tbody tr th {\n",
       "        vertical-align: top;\n",
       "    }\n",
       "\n",
       "    .dataframe thead th {\n",
       "        text-align: right;\n",
       "    }\n",
       "</style>\n",
       "<table border=\"1\" class=\"dataframe\">\n",
       "  <thead>\n",
       "    <tr style=\"text-align: right;\">\n",
       "      <th></th>\n",
       "      <th>CRIM</th>\n",
       "      <th>ZN</th>\n",
       "      <th>INDUS</th>\n",
       "      <th>CHAS</th>\n",
       "      <th>NOX</th>\n",
       "      <th>RM</th>\n",
       "      <th>AGE</th>\n",
       "      <th>DIS</th>\n",
       "      <th>RAD</th>\n",
       "      <th>TAX</th>\n",
       "      <th>PTRATIO</th>\n",
       "      <th>B</th>\n",
       "      <th>LSTAT</th>\n",
       "      <th>MEDV</th>\n",
       "    </tr>\n",
       "  </thead>\n",
       "  <tbody>\n",
       "    <tr>\n",
       "      <th>count</th>\n",
       "      <td>506.000000</td>\n",
       "      <td>506.000000</td>\n",
       "      <td>506.000000</td>\n",
       "      <td>506.000000</td>\n",
       "      <td>506.000000</td>\n",
       "      <td>506.000000</td>\n",
       "      <td>506.000000</td>\n",
       "      <td>506.000000</td>\n",
       "      <td>506.000000</td>\n",
       "      <td>506.000000</td>\n",
       "      <td>506.000000</td>\n",
       "      <td>506.000000</td>\n",
       "      <td>506.000000</td>\n",
       "      <td>506.000000</td>\n",
       "    </tr>\n",
       "    <tr>\n",
       "      <th>mean</th>\n",
       "      <td>3.613524</td>\n",
       "      <td>11.363636</td>\n",
       "      <td>11.136779</td>\n",
       "      <td>0.069170</td>\n",
       "      <td>0.554695</td>\n",
       "      <td>6.284634</td>\n",
       "      <td>68.574901</td>\n",
       "      <td>3.795043</td>\n",
       "      <td>9.549407</td>\n",
       "      <td>408.237154</td>\n",
       "      <td>18.455534</td>\n",
       "      <td>356.674032</td>\n",
       "      <td>12.653063</td>\n",
       "      <td>22.532806</td>\n",
       "    </tr>\n",
       "    <tr>\n",
       "      <th>std</th>\n",
       "      <td>8.601545</td>\n",
       "      <td>23.322453</td>\n",
       "      <td>6.860353</td>\n",
       "      <td>0.253994</td>\n",
       "      <td>0.115878</td>\n",
       "      <td>0.702617</td>\n",
       "      <td>28.148861</td>\n",
       "      <td>2.105710</td>\n",
       "      <td>8.707259</td>\n",
       "      <td>168.537116</td>\n",
       "      <td>2.164946</td>\n",
       "      <td>91.294864</td>\n",
       "      <td>7.141062</td>\n",
       "      <td>9.197104</td>\n",
       "    </tr>\n",
       "    <tr>\n",
       "      <th>min</th>\n",
       "      <td>0.006320</td>\n",
       "      <td>0.000000</td>\n",
       "      <td>0.460000</td>\n",
       "      <td>0.000000</td>\n",
       "      <td>0.385000</td>\n",
       "      <td>3.561000</td>\n",
       "      <td>2.900000</td>\n",
       "      <td>1.129600</td>\n",
       "      <td>1.000000</td>\n",
       "      <td>187.000000</td>\n",
       "      <td>12.600000</td>\n",
       "      <td>0.320000</td>\n",
       "      <td>1.730000</td>\n",
       "      <td>5.000000</td>\n",
       "    </tr>\n",
       "    <tr>\n",
       "      <th>25%</th>\n",
       "      <td>0.082045</td>\n",
       "      <td>0.000000</td>\n",
       "      <td>5.190000</td>\n",
       "      <td>0.000000</td>\n",
       "      <td>0.449000</td>\n",
       "      <td>5.885500</td>\n",
       "      <td>45.025000</td>\n",
       "      <td>2.100175</td>\n",
       "      <td>4.000000</td>\n",
       "      <td>279.000000</td>\n",
       "      <td>17.400000</td>\n",
       "      <td>375.377500</td>\n",
       "      <td>6.950000</td>\n",
       "      <td>17.025000</td>\n",
       "    </tr>\n",
       "    <tr>\n",
       "      <th>50%</th>\n",
       "      <td>0.256510</td>\n",
       "      <td>0.000000</td>\n",
       "      <td>9.690000</td>\n",
       "      <td>0.000000</td>\n",
       "      <td>0.538000</td>\n",
       "      <td>6.208500</td>\n",
       "      <td>77.500000</td>\n",
       "      <td>3.207450</td>\n",
       "      <td>5.000000</td>\n",
       "      <td>330.000000</td>\n",
       "      <td>19.050000</td>\n",
       "      <td>391.440000</td>\n",
       "      <td>11.360000</td>\n",
       "      <td>21.200000</td>\n",
       "    </tr>\n",
       "    <tr>\n",
       "      <th>75%</th>\n",
       "      <td>3.677083</td>\n",
       "      <td>12.500000</td>\n",
       "      <td>18.100000</td>\n",
       "      <td>0.000000</td>\n",
       "      <td>0.624000</td>\n",
       "      <td>6.623500</td>\n",
       "      <td>94.075000</td>\n",
       "      <td>5.188425</td>\n",
       "      <td>24.000000</td>\n",
       "      <td>666.000000</td>\n",
       "      <td>20.200000</td>\n",
       "      <td>396.225000</td>\n",
       "      <td>16.955000</td>\n",
       "      <td>25.000000</td>\n",
       "    </tr>\n",
       "    <tr>\n",
       "      <th>max</th>\n",
       "      <td>88.976200</td>\n",
       "      <td>100.000000</td>\n",
       "      <td>27.740000</td>\n",
       "      <td>1.000000</td>\n",
       "      <td>0.871000</td>\n",
       "      <td>8.780000</td>\n",
       "      <td>100.000000</td>\n",
       "      <td>12.126500</td>\n",
       "      <td>24.000000</td>\n",
       "      <td>711.000000</td>\n",
       "      <td>22.000000</td>\n",
       "      <td>396.900000</td>\n",
       "      <td>37.970000</td>\n",
       "      <td>50.000000</td>\n",
       "    </tr>\n",
       "  </tbody>\n",
       "</table>\n",
       "</div>"
      ],
      "text/plain": [
       "             CRIM          ZN       INDUS        CHAS         NOX          RM  \\\n",
       "count  506.000000  506.000000  506.000000  506.000000  506.000000  506.000000   \n",
       "mean     3.613524   11.363636   11.136779    0.069170    0.554695    6.284634   \n",
       "std      8.601545   23.322453    6.860353    0.253994    0.115878    0.702617   \n",
       "min      0.006320    0.000000    0.460000    0.000000    0.385000    3.561000   \n",
       "25%      0.082045    0.000000    5.190000    0.000000    0.449000    5.885500   \n",
       "50%      0.256510    0.000000    9.690000    0.000000    0.538000    6.208500   \n",
       "75%      3.677083   12.500000   18.100000    0.000000    0.624000    6.623500   \n",
       "max     88.976200  100.000000   27.740000    1.000000    0.871000    8.780000   \n",
       "\n",
       "              AGE         DIS         RAD         TAX     PTRATIO           B  \\\n",
       "count  506.000000  506.000000  506.000000  506.000000  506.000000  506.000000   \n",
       "mean    68.574901    3.795043    9.549407  408.237154   18.455534  356.674032   \n",
       "std     28.148861    2.105710    8.707259  168.537116    2.164946   91.294864   \n",
       "min      2.900000    1.129600    1.000000  187.000000   12.600000    0.320000   \n",
       "25%     45.025000    2.100175    4.000000  279.000000   17.400000  375.377500   \n",
       "50%     77.500000    3.207450    5.000000  330.000000   19.050000  391.440000   \n",
       "75%     94.075000    5.188425   24.000000  666.000000   20.200000  396.225000   \n",
       "max    100.000000   12.126500   24.000000  711.000000   22.000000  396.900000   \n",
       "\n",
       "            LSTAT        MEDV  \n",
       "count  506.000000  506.000000  \n",
       "mean    12.653063   22.532806  \n",
       "std      7.141062    9.197104  \n",
       "min      1.730000    5.000000  \n",
       "25%      6.950000   17.025000  \n",
       "50%     11.360000   21.200000  \n",
       "75%     16.955000   25.000000  \n",
       "max     37.970000   50.000000  "
      ]
     },
     "execution_count": 7,
     "metadata": {},
     "output_type": "execute_result"
    }
   ],
   "source": [
    "df.describe()"
   ]
  },
  {
   "cell_type": "markdown",
   "id": "44bc6735",
   "metadata": {},
   "source": [
    "#### Checking correlation with target variable MEDV"
   ]
  },
  {
   "cell_type": "code",
   "execution_count": 8,
   "id": "64ef4b15",
   "metadata": {},
   "outputs": [
    {
     "data": {
      "text/plain": [
       "LSTAT     -0.737663\n",
       "PTRATIO   -0.507787\n",
       "INDUS     -0.483725\n",
       "TAX       -0.468536\n",
       "NOX       -0.427321\n",
       "CRIM      -0.388305\n",
       "RAD       -0.381626\n",
       "AGE       -0.376955\n",
       "CHAS       0.175260\n",
       "DIS        0.249929\n",
       "B          0.333461\n",
       "ZN         0.360445\n",
       "RM         0.695360\n",
       "MEDV       1.000000\n",
       "Name: MEDV, dtype: float64"
      ]
     },
     "execution_count": 8,
     "metadata": {},
     "output_type": "execute_result"
    }
   ],
   "source": [
    "df.corr()['MEDV'].sort_values()"
   ]
  },
  {
   "cell_type": "code",
   "execution_count": 9,
   "id": "7168e688",
   "metadata": {},
   "outputs": [
    {
     "data": {
      "text/plain": [
       "((506, 3), (506,))"
      ]
     },
     "execution_count": 9,
     "metadata": {},
     "output_type": "execute_result"
    }
   ],
   "source": [
    "X = df.loc[:,['LSTAT','PTRATIO','RM']]\n",
    "Y = df.loc[:,\"MEDV\"]\n",
    "X.shape,Y.shape"
   ]
  },
  {
   "cell_type": "markdown",
   "id": "08648c29",
   "metadata": {},
   "source": [
    "### Preparing training and testing data set"
   ]
  },
  {
   "cell_type": "code",
   "execution_count": 10,
   "id": "cecea370",
   "metadata": {},
   "outputs": [],
   "source": [
    "from sklearn.model_selection import train_test_split\n",
    "x_train,x_test,y_train,y_test = train_test_split(X,Y,test_size=0.25,random_state=10)"
   ]
  },
  {
   "cell_type": "markdown",
   "id": "7eabb9f2",
   "metadata": {},
   "source": [
    "### Normalizing training and testing dataset"
   ]
  },
  {
   "cell_type": "code",
   "execution_count": 11,
   "id": "926fe0ce",
   "metadata": {},
   "outputs": [],
   "source": [
    "from sklearn.preprocessing import StandardScaler"
   ]
  },
  {
   "cell_type": "code",
   "execution_count": 12,
   "id": "1e49c4a2",
   "metadata": {},
   "outputs": [],
   "source": [
    "scaler = StandardScaler()"
   ]
  },
  {
   "cell_type": "code",
   "execution_count": 13,
   "id": "b99b26de",
   "metadata": {},
   "outputs": [
    {
     "data": {
      "text/html": [
       "<style>#sk-container-id-1 {color: black;background-color: white;}#sk-container-id-1 pre{padding: 0;}#sk-container-id-1 div.sk-toggleable {background-color: white;}#sk-container-id-1 label.sk-toggleable__label {cursor: pointer;display: block;width: 100%;margin-bottom: 0;padding: 0.3em;box-sizing: border-box;text-align: center;}#sk-container-id-1 label.sk-toggleable__label-arrow:before {content: \"▸\";float: left;margin-right: 0.25em;color: #696969;}#sk-container-id-1 label.sk-toggleable__label-arrow:hover:before {color: black;}#sk-container-id-1 div.sk-estimator:hover label.sk-toggleable__label-arrow:before {color: black;}#sk-container-id-1 div.sk-toggleable__content {max-height: 0;max-width: 0;overflow: hidden;text-align: left;background-color: #f0f8ff;}#sk-container-id-1 div.sk-toggleable__content pre {margin: 0.2em;color: black;border-radius: 0.25em;background-color: #f0f8ff;}#sk-container-id-1 input.sk-toggleable__control:checked~div.sk-toggleable__content {max-height: 200px;max-width: 100%;overflow: auto;}#sk-container-id-1 input.sk-toggleable__control:checked~label.sk-toggleable__label-arrow:before {content: \"▾\";}#sk-container-id-1 div.sk-estimator input.sk-toggleable__control:checked~label.sk-toggleable__label {background-color: #d4ebff;}#sk-container-id-1 div.sk-label input.sk-toggleable__control:checked~label.sk-toggleable__label {background-color: #d4ebff;}#sk-container-id-1 input.sk-hidden--visually {border: 0;clip: rect(1px 1px 1px 1px);clip: rect(1px, 1px, 1px, 1px);height: 1px;margin: -1px;overflow: hidden;padding: 0;position: absolute;width: 1px;}#sk-container-id-1 div.sk-estimator {font-family: monospace;background-color: #f0f8ff;border: 1px dotted black;border-radius: 0.25em;box-sizing: border-box;margin-bottom: 0.5em;}#sk-container-id-1 div.sk-estimator:hover {background-color: #d4ebff;}#sk-container-id-1 div.sk-parallel-item::after {content: \"\";width: 100%;border-bottom: 1px solid gray;flex-grow: 1;}#sk-container-id-1 div.sk-label:hover label.sk-toggleable__label {background-color: #d4ebff;}#sk-container-id-1 div.sk-serial::before {content: \"\";position: absolute;border-left: 1px solid gray;box-sizing: border-box;top: 0;bottom: 0;left: 50%;z-index: 0;}#sk-container-id-1 div.sk-serial {display: flex;flex-direction: column;align-items: center;background-color: white;padding-right: 0.2em;padding-left: 0.2em;position: relative;}#sk-container-id-1 div.sk-item {position: relative;z-index: 1;}#sk-container-id-1 div.sk-parallel {display: flex;align-items: stretch;justify-content: center;background-color: white;position: relative;}#sk-container-id-1 div.sk-item::before, #sk-container-id-1 div.sk-parallel-item::before {content: \"\";position: absolute;border-left: 1px solid gray;box-sizing: border-box;top: 0;bottom: 0;left: 50%;z-index: -1;}#sk-container-id-1 div.sk-parallel-item {display: flex;flex-direction: column;z-index: 1;position: relative;background-color: white;}#sk-container-id-1 div.sk-parallel-item:first-child::after {align-self: flex-end;width: 50%;}#sk-container-id-1 div.sk-parallel-item:last-child::after {align-self: flex-start;width: 50%;}#sk-container-id-1 div.sk-parallel-item:only-child::after {width: 0;}#sk-container-id-1 div.sk-dashed-wrapped {border: 1px dashed gray;margin: 0 0.4em 0.5em 0.4em;box-sizing: border-box;padding-bottom: 0.4em;background-color: white;}#sk-container-id-1 div.sk-label label {font-family: monospace;font-weight: bold;display: inline-block;line-height: 1.2em;}#sk-container-id-1 div.sk-label-container {text-align: center;}#sk-container-id-1 div.sk-container {/* jupyter's `normalize.less` sets `[hidden] { display: none; }` but bootstrap.min.css set `[hidden] { display: none !important; }` so we also need the `!important` here to be able to override the default hidden behavior on the sphinx rendered scikit-learn.org. See: https://github.com/scikit-learn/scikit-learn/issues/21755 */display: inline-block !important;position: relative;}#sk-container-id-1 div.sk-text-repr-fallback {display: none;}</style><div id=\"sk-container-id-1\" class=\"sk-top-container\"><div class=\"sk-text-repr-fallback\"><pre>StandardScaler()</pre><b>In a Jupyter environment, please rerun this cell to show the HTML representation or trust the notebook. <br />On GitHub, the HTML representation is unable to render, please try loading this page with nbviewer.org.</b></div><div class=\"sk-container\" hidden><div class=\"sk-item\"><div class=\"sk-estimator sk-toggleable\"><input class=\"sk-toggleable__control sk-hidden--visually\" id=\"sk-estimator-id-1\" type=\"checkbox\" checked><label for=\"sk-estimator-id-1\" class=\"sk-toggleable__label sk-toggleable__label-arrow\">StandardScaler</label><div class=\"sk-toggleable__content\"><pre>StandardScaler()</pre></div></div></div></div></div>"
      ],
      "text/plain": [
       "StandardScaler()"
      ]
     },
     "execution_count": 13,
     "metadata": {},
     "output_type": "execute_result"
    }
   ],
   "source": [
    "scaler.fit(x_train)"
   ]
  },
  {
   "cell_type": "code",
   "execution_count": 14,
   "id": "eece8526",
   "metadata": {},
   "outputs": [],
   "source": [
    "x_train = scaler.transform(x_train)\n",
    "x_test = scaler.transform(x_test)"
   ]
  },
  {
   "cell_type": "markdown",
   "id": "a1ed18cc",
   "metadata": {},
   "source": [
    "### Preparing model"
   ]
  },
  {
   "cell_type": "code",
   "execution_count": 15,
   "id": "1243c6f8",
   "metadata": {},
   "outputs": [
    {
     "name": "stderr",
     "output_type": "stream",
     "text": [
      "c:\\users\\prati\\appdata\\local\\programs\\python\\python39\\lib\\site-packages\\requests\\__init__.py:102: RequestsDependencyWarning: urllib3 (2.1.0) or chardet (5.2.0)/charset_normalizer (3.3.2) doesn't match a supported version!\n",
      "  warnings.warn(\"urllib3 ({}) or chardet ({})/charset_normalizer ({}) doesn't match a supported \"\n"
     ]
    }
   ],
   "source": [
    "from keras.models import Sequential\n",
    "from keras.layers import Dense"
   ]
  },
  {
   "cell_type": "code",
   "execution_count": 16,
   "id": "e7dad931",
   "metadata": {},
   "outputs": [],
   "source": [
    "model = Sequential()"
   ]
  },
  {
   "cell_type": "code",
   "execution_count": 17,
   "id": "0baf27a9",
   "metadata": {},
   "outputs": [
    {
     "name": "stdout",
     "output_type": "stream",
     "text": [
      "Model: \"sequential\"\n",
      "_________________________________________________________________\n",
      " Layer (type)                Output Shape              Param #   \n",
      "=================================================================\n",
      " input (Dense)               (None, 128)               512       \n",
      "                                                                 \n",
      " layer_1 (Dense)             (None, 64)                8256      \n",
      "                                                                 \n",
      " output (Dense)              (None, 1)                 65        \n",
      "                                                                 \n",
      "=================================================================\n",
      "Total params: 8,833\n",
      "Trainable params: 8,833\n",
      "Non-trainable params: 0\n",
      "_________________________________________________________________\n"
     ]
    }
   ],
   "source": [
    "model.add(Dense(128,input_shape=(3,),activation='relu',name='input'))\n",
    "model.add(Dense(64,activation='relu',name='layer_1'))\n",
    "model.add(Dense(1,activation='linear',name='output'))\n",
    "model.compile(optimizer='adam', loss='mse', metrics=['mae'])\n",
    "model.summary()"
   ]
  },
  {
   "cell_type": "code",
   "execution_count": 18,
   "id": "4b51358b",
   "metadata": {},
   "outputs": [
    {
     "name": "stdout",
     "output_type": "stream",
     "text": [
      "Epoch 1/100\n",
      "12/12 [==============================] - 1s 21ms/step - loss: 534.7568 - mae: 21.4834 - val_loss: 701.9814 - val_mae: 23.8003\n",
      "Epoch 2/100\n",
      "12/12 [==============================] - 0s 5ms/step - loss: 498.1612 - mae: 20.6371 - val_loss: 656.4949 - val_mae: 22.7885\n",
      "Epoch 3/100\n",
      "12/12 [==============================] - 0s 4ms/step - loss: 450.9314 - mae: 19.5066 - val_loss: 593.4268 - val_mae: 21.3093\n",
      "Epoch 4/100\n",
      "12/12 [==============================] - 0s 5ms/step - loss: 384.2806 - mae: 17.8151 - val_loss: 508.3767 - val_mae: 19.2691\n",
      "Epoch 5/100\n",
      "12/12 [==============================] - 0s 5ms/step - loss: 298.5674 - mae: 15.4544 - val_loss: 404.1273 - val_mae: 16.7947\n",
      "Epoch 6/100\n",
      "12/12 [==============================] - 0s 6ms/step - loss: 197.7047 - mae: 12.5487 - val_loss: 296.4944 - val_mae: 13.6848\n",
      "Epoch 7/100\n",
      "12/12 [==============================] - 0s 6ms/step - loss: 110.8783 - mae: 9.2595 - val_loss: 203.1852 - val_mae: 10.7926\n",
      "Epoch 8/100\n",
      "12/12 [==============================] - 0s 6ms/step - loss: 55.5587 - mae: 6.2735 - val_loss: 147.1281 - val_mae: 8.9285\n",
      "Epoch 9/100\n",
      "12/12 [==============================] - 0s 6ms/step - loss: 40.2773 - mae: 5.0017 - val_loss: 119.6341 - val_mae: 7.6314\n",
      "Epoch 10/100\n",
      "12/12 [==============================] - 0s 5ms/step - loss: 35.5293 - mae: 4.5404 - val_loss: 106.9739 - val_mae: 7.1871\n",
      "Epoch 11/100\n",
      "12/12 [==============================] - 0s 6ms/step - loss: 30.0256 - mae: 4.0784 - val_loss: 100.9582 - val_mae: 6.9967\n",
      "Epoch 12/100\n",
      "12/12 [==============================] - 0s 5ms/step - loss: 26.8400 - mae: 3.8145 - val_loss: 97.1771 - val_mae: 6.8754\n",
      "Epoch 13/100\n",
      "12/12 [==============================] - 0s 6ms/step - loss: 24.9535 - mae: 3.6640 - val_loss: 92.3647 - val_mae: 6.7188\n",
      "Epoch 14/100\n",
      "12/12 [==============================] - 0s 6ms/step - loss: 23.7978 - mae: 3.5722 - val_loss: 89.8977 - val_mae: 6.6743\n",
      "Epoch 15/100\n",
      "12/12 [==============================] - 0s 6ms/step - loss: 22.9456 - mae: 3.4978 - val_loss: 88.5383 - val_mae: 6.6351\n",
      "Epoch 16/100\n",
      "12/12 [==============================] - 0s 6ms/step - loss: 22.2057 - mae: 3.4415 - val_loss: 88.1613 - val_mae: 6.5857\n",
      "Epoch 17/100\n",
      "12/12 [==============================] - 0s 5ms/step - loss: 21.5638 - mae: 3.3862 - val_loss: 88.8462 - val_mae: 6.5601\n",
      "Epoch 18/100\n",
      "12/12 [==============================] - 0s 5ms/step - loss: 21.0745 - mae: 3.3545 - val_loss: 89.4793 - val_mae: 6.5477\n",
      "Epoch 19/100\n",
      "12/12 [==============================] - 0s 5ms/step - loss: 20.5700 - mae: 3.3218 - val_loss: 88.5214 - val_mae: 6.4834\n",
      "Epoch 20/100\n",
      "12/12 [==============================] - 0s 5ms/step - loss: 20.0902 - mae: 3.2812 - val_loss: 87.4072 - val_mae: 6.4148\n",
      "Epoch 21/100\n",
      "12/12 [==============================] - 0s 4ms/step - loss: 19.6601 - mae: 3.2566 - val_loss: 85.9256 - val_mae: 6.3460\n",
      "Epoch 22/100\n",
      "12/12 [==============================] - 0s 4ms/step - loss: 19.2781 - mae: 3.2110 - val_loss: 84.4614 - val_mae: 6.2657\n",
      "Epoch 23/100\n",
      "12/12 [==============================] - 0s 4ms/step - loss: 18.8673 - mae: 3.1728 - val_loss: 83.7785 - val_mae: 6.2135\n",
      "Epoch 24/100\n",
      "12/12 [==============================] - 0s 5ms/step - loss: 18.5614 - mae: 3.1471 - val_loss: 83.4324 - val_mae: 6.1596\n",
      "Epoch 25/100\n",
      "12/12 [==============================] - 0s 5ms/step - loss: 18.1805 - mae: 3.1236 - val_loss: 83.5491 - val_mae: 6.1190\n",
      "Epoch 26/100\n",
      "12/12 [==============================] - 0s 5ms/step - loss: 17.8572 - mae: 3.1032 - val_loss: 83.8858 - val_mae: 6.0988\n",
      "Epoch 27/100\n",
      "12/12 [==============================] - 0s 5ms/step - loss: 17.5987 - mae: 3.0770 - val_loss: 82.9066 - val_mae: 6.0390\n",
      "Epoch 28/100\n",
      "12/12 [==============================] - 0s 5ms/step - loss: 17.3209 - mae: 3.0482 - val_loss: 83.2307 - val_mae: 6.0138\n",
      "Epoch 29/100\n",
      "12/12 [==============================] - 0s 5ms/step - loss: 17.0270 - mae: 3.0282 - val_loss: 82.0865 - val_mae: 5.9563\n",
      "Epoch 30/100\n",
      "12/12 [==============================] - 0s 4ms/step - loss: 16.8512 - mae: 3.0112 - val_loss: 82.7855 - val_mae: 5.9278\n",
      "Epoch 31/100\n",
      "12/12 [==============================] - 0s 4ms/step - loss: 16.5733 - mae: 2.9747 - val_loss: 82.7608 - val_mae: 5.8906\n",
      "Epoch 32/100\n",
      "12/12 [==============================] - 0s 5ms/step - loss: 16.5465 - mae: 2.9940 - val_loss: 80.5773 - val_mae: 5.8148\n",
      "Epoch 33/100\n",
      "12/12 [==============================] - 0s 5ms/step - loss: 16.2393 - mae: 2.9630 - val_loss: 81.7512 - val_mae: 5.8179\n",
      "Epoch 34/100\n",
      "12/12 [==============================] - 0s 4ms/step - loss: 16.1098 - mae: 2.9342 - val_loss: 83.1593 - val_mae: 5.8605\n",
      "Epoch 35/100\n",
      "12/12 [==============================] - 0s 5ms/step - loss: 15.9435 - mae: 2.9137 - val_loss: 83.1342 - val_mae: 5.8347\n",
      "Epoch 36/100\n",
      "12/12 [==============================] - 0s 5ms/step - loss: 15.6050 - mae: 2.8941 - val_loss: 81.0318 - val_mae: 5.6973\n",
      "Epoch 37/100\n",
      "12/12 [==============================] - 0s 4ms/step - loss: 15.7010 - mae: 2.9020 - val_loss: 79.6676 - val_mae: 5.6461\n",
      "Epoch 38/100\n",
      "12/12 [==============================] - 0s 5ms/step - loss: 15.3491 - mae: 2.8601 - val_loss: 81.2699 - val_mae: 5.6554\n",
      "Epoch 39/100\n",
      "12/12 [==============================] - 0s 5ms/step - loss: 15.2825 - mae: 2.8479 - val_loss: 82.7709 - val_mae: 5.6945\n",
      "Epoch 40/100\n",
      "12/12 [==============================] - 0s 4ms/step - loss: 15.1291 - mae: 2.8371 - val_loss: 80.1137 - val_mae: 5.6069\n",
      "Epoch 41/100\n",
      "12/12 [==============================] - 0s 5ms/step - loss: 14.9354 - mae: 2.8307 - val_loss: 81.0114 - val_mae: 5.6256\n",
      "Epoch 42/100\n",
      "12/12 [==============================] - 0s 6ms/step - loss: 14.8259 - mae: 2.8255 - val_loss: 80.7104 - val_mae: 5.6008\n",
      "Epoch 43/100\n",
      "12/12 [==============================] - 0s 5ms/step - loss: 14.7614 - mae: 2.8385 - val_loss: 78.2414 - val_mae: 5.5508\n",
      "Epoch 44/100\n",
      "12/12 [==============================] - 0s 6ms/step - loss: 14.5869 - mae: 2.8179 - val_loss: 79.8872 - val_mae: 5.5791\n",
      "Epoch 45/100\n",
      "12/12 [==============================] - 0s 5ms/step - loss: 14.4907 - mae: 2.7838 - val_loss: 81.2494 - val_mae: 5.5880\n",
      "Epoch 46/100\n",
      "12/12 [==============================] - 0s 4ms/step - loss: 14.4490 - mae: 2.7952 - val_loss: 79.7955 - val_mae: 5.4926\n",
      "Epoch 47/100\n",
      "12/12 [==============================] - 0s 5ms/step - loss: 14.2465 - mae: 2.7634 - val_loss: 81.2848 - val_mae: 5.5270\n",
      "Epoch 48/100\n",
      "12/12 [==============================] - 0s 5ms/step - loss: 14.1844 - mae: 2.7348 - val_loss: 82.2183 - val_mae: 5.5296\n",
      "Epoch 49/100\n",
      "12/12 [==============================] - 0s 5ms/step - loss: 14.0262 - mae: 2.7185 - val_loss: 80.0484 - val_mae: 5.4218\n",
      "Epoch 50/100\n",
      "12/12 [==============================] - 0s 4ms/step - loss: 13.9271 - mae: 2.7042 - val_loss: 79.3112 - val_mae: 5.3755\n",
      "Epoch 51/100\n",
      "12/12 [==============================] - 0s 4ms/step - loss: 13.9135 - mae: 2.7238 - val_loss: 79.3547 - val_mae: 5.3860\n",
      "Epoch 52/100\n",
      "12/12 [==============================] - 0s 4ms/step - loss: 13.7498 - mae: 2.6865 - val_loss: 80.4114 - val_mae: 5.4044\n",
      "Epoch 53/100\n",
      "12/12 [==============================] - 0s 5ms/step - loss: 13.6487 - mae: 2.6750 - val_loss: 79.9745 - val_mae: 5.3925\n",
      "Epoch 54/100\n",
      "12/12 [==============================] - 0s 5ms/step - loss: 13.5812 - mae: 2.6752 - val_loss: 80.7645 - val_mae: 5.4223\n",
      "Epoch 55/100\n",
      "12/12 [==============================] - 0s 5ms/step - loss: 13.5054 - mae: 2.6781 - val_loss: 79.9827 - val_mae: 5.4113\n",
      "Epoch 56/100\n",
      "12/12 [==============================] - 0s 4ms/step - loss: 13.5378 - mae: 2.6857 - val_loss: 78.0061 - val_mae: 5.3282\n",
      "Epoch 57/100\n",
      "12/12 [==============================] - 0s 4ms/step - loss: 13.6603 - mae: 2.6929 - val_loss: 81.0919 - val_mae: 5.3966\n",
      "Epoch 58/100\n",
      "12/12 [==============================] - 0s 5ms/step - loss: 13.2084 - mae: 2.6507 - val_loss: 77.3050 - val_mae: 5.2899\n",
      "Epoch 59/100\n",
      "12/12 [==============================] - 0s 4ms/step - loss: 13.1236 - mae: 2.6394 - val_loss: 80.3214 - val_mae: 5.3490\n",
      "Epoch 60/100\n",
      "12/12 [==============================] - 0s 4ms/step - loss: 13.1206 - mae: 2.6289 - val_loss: 79.6238 - val_mae: 5.3085\n",
      "Epoch 61/100\n",
      "12/12 [==============================] - 0s 5ms/step - loss: 12.9325 - mae: 2.6112 - val_loss: 79.7592 - val_mae: 5.3183\n",
      "Epoch 62/100\n",
      "12/12 [==============================] - 0s 4ms/step - loss: 12.9496 - mae: 2.6202 - val_loss: 79.5288 - val_mae: 5.3059\n",
      "Epoch 63/100\n",
      "12/12 [==============================] - 0s 5ms/step - loss: 12.8281 - mae: 2.6036 - val_loss: 81.4617 - val_mae: 5.3378\n",
      "Epoch 64/100\n",
      "12/12 [==============================] - 0s 5ms/step - loss: 12.7514 - mae: 2.5899 - val_loss: 79.6090 - val_mae: 5.2657\n",
      "Epoch 65/100\n",
      "12/12 [==============================] - 0s 4ms/step - loss: 12.7076 - mae: 2.5907 - val_loss: 79.2693 - val_mae: 5.2398\n",
      "Epoch 66/100\n",
      "12/12 [==============================] - 0s 4ms/step - loss: 12.5890 - mae: 2.5725 - val_loss: 81.3884 - val_mae: 5.2930\n",
      "Epoch 67/100\n",
      "12/12 [==============================] - 0s 4ms/step - loss: 12.6680 - mae: 2.5793 - val_loss: 80.2940 - val_mae: 5.2538\n",
      "Epoch 68/100\n",
      "12/12 [==============================] - 0s 4ms/step - loss: 12.5640 - mae: 2.5766 - val_loss: 78.0877 - val_mae: 5.1883\n",
      "Epoch 69/100\n",
      "12/12 [==============================] - 0s 4ms/step - loss: 12.3913 - mae: 2.5717 - val_loss: 80.9214 - val_mae: 5.2473\n",
      "Epoch 70/100\n",
      "12/12 [==============================] - 0s 4ms/step - loss: 12.3059 - mae: 2.5483 - val_loss: 78.4473 - val_mae: 5.1528\n",
      "Epoch 71/100\n",
      "12/12 [==============================] - 0s 4ms/step - loss: 12.3001 - mae: 2.5352 - val_loss: 80.8792 - val_mae: 5.1880\n",
      "Epoch 72/100\n",
      "12/12 [==============================] - 0s 4ms/step - loss: 12.2216 - mae: 2.5361 - val_loss: 80.0106 - val_mae: 5.1691\n",
      "Epoch 73/100\n",
      "12/12 [==============================] - 0s 4ms/step - loss: 12.1640 - mae: 2.5254 - val_loss: 77.4502 - val_mae: 5.1034\n",
      "Epoch 74/100\n",
      "12/12 [==============================] - 0s 5ms/step - loss: 12.1790 - mae: 2.5384 - val_loss: 80.0607 - val_mae: 5.2048\n",
      "Epoch 75/100\n",
      "12/12 [==============================] - 0s 5ms/step - loss: 11.9497 - mae: 2.5203 - val_loss: 78.4417 - val_mae: 5.1425\n",
      "Epoch 76/100\n",
      "12/12 [==============================] - 0s 6ms/step - loss: 12.0469 - mae: 2.5414 - val_loss: 80.6467 - val_mae: 5.1923\n",
      "Epoch 77/100\n",
      "12/12 [==============================] - 0s 6ms/step - loss: 11.8130 - mae: 2.4992 - val_loss: 78.6202 - val_mae: 5.0920\n",
      "Epoch 78/100\n",
      "12/12 [==============================] - 0s 5ms/step - loss: 11.8004 - mae: 2.4899 - val_loss: 80.3906 - val_mae: 5.1396\n",
      "Epoch 79/100\n",
      "12/12 [==============================] - 0s 5ms/step - loss: 11.7694 - mae: 2.4847 - val_loss: 81.1883 - val_mae: 5.1511\n",
      "Epoch 80/100\n",
      "12/12 [==============================] - 0s 4ms/step - loss: 11.7304 - mae: 2.4788 - val_loss: 77.8584 - val_mae: 5.0756\n",
      "Epoch 81/100\n",
      "12/12 [==============================] - 0s 5ms/step - loss: 11.7980 - mae: 2.4915 - val_loss: 80.7333 - val_mae: 5.1551\n",
      "Epoch 82/100\n",
      "12/12 [==============================] - 0s 4ms/step - loss: 11.6275 - mae: 2.4787 - val_loss: 79.0053 - val_mae: 5.0780\n",
      "Epoch 83/100\n",
      "12/12 [==============================] - 0s 5ms/step - loss: 11.4233 - mae: 2.4553 - val_loss: 80.7892 - val_mae: 5.1445\n",
      "Epoch 84/100\n",
      "12/12 [==============================] - 0s 4ms/step - loss: 11.4097 - mae: 2.4514 - val_loss: 80.9649 - val_mae: 5.1486\n",
      "Epoch 85/100\n",
      "12/12 [==============================] - 0s 5ms/step - loss: 11.4941 - mae: 2.4597 - val_loss: 80.3012 - val_mae: 5.0896\n",
      "Epoch 86/100\n",
      "12/12 [==============================] - 0s 5ms/step - loss: 11.2616 - mae: 2.4419 - val_loss: 79.1125 - val_mae: 5.1115\n",
      "Epoch 87/100\n",
      "12/12 [==============================] - 0s 5ms/step - loss: 11.5140 - mae: 2.4777 - val_loss: 79.6281 - val_mae: 5.1218\n",
      "Epoch 88/100\n",
      "12/12 [==============================] - 0s 4ms/step - loss: 11.4880 - mae: 2.4465 - val_loss: 82.0257 - val_mae: 5.0940\n",
      "Epoch 89/100\n",
      "12/12 [==============================] - 0s 4ms/step - loss: 11.2301 - mae: 2.4207 - val_loss: 80.9274 - val_mae: 5.0992\n",
      "Epoch 90/100\n",
      "12/12 [==============================] - 0s 5ms/step - loss: 11.0726 - mae: 2.4136 - val_loss: 79.7623 - val_mae: 5.0944\n",
      "Epoch 91/100\n",
      "12/12 [==============================] - 0s 5ms/step - loss: 11.1634 - mae: 2.4265 - val_loss: 78.3902 - val_mae: 5.0857\n",
      "Epoch 92/100\n",
      "12/12 [==============================] - 0s 4ms/step - loss: 11.2005 - mae: 2.4307 - val_loss: 81.5272 - val_mae: 5.1630\n",
      "Epoch 93/100\n",
      "12/12 [==============================] - 0s 5ms/step - loss: 11.1395 - mae: 2.4167 - val_loss: 80.7674 - val_mae: 5.0513\n",
      "Epoch 94/100\n",
      "12/12 [==============================] - 0s 5ms/step - loss: 11.1318 - mae: 2.4125 - val_loss: 80.1400 - val_mae: 5.0710\n",
      "Epoch 95/100\n",
      "12/12 [==============================] - 0s 4ms/step - loss: 10.8814 - mae: 2.4026 - val_loss: 82.8663 - val_mae: 5.1914\n",
      "Epoch 96/100\n",
      "12/12 [==============================] - 0s 5ms/step - loss: 10.9643 - mae: 2.4272 - val_loss: 83.9522 - val_mae: 5.1645\n",
      "Epoch 97/100\n",
      "12/12 [==============================] - 0s 5ms/step - loss: 11.0334 - mae: 2.4152 - val_loss: 81.7724 - val_mae: 5.0625\n",
      "Epoch 98/100\n",
      "12/12 [==============================] - 0s 4ms/step - loss: 10.7470 - mae: 2.3786 - val_loss: 80.3585 - val_mae: 5.0849\n",
      "Epoch 99/100\n",
      "12/12 [==============================] - 0s 4ms/step - loss: 10.7878 - mae: 2.3810 - val_loss: 81.9746 - val_mae: 5.1278\n",
      "Epoch 100/100\n",
      "12/12 [==============================] - 0s 4ms/step - loss: 10.7026 - mae: 2.3523 - val_loss: 80.4766 - val_mae: 5.0378\n"
     ]
    },
    {
     "data": {
      "text/plain": [
       "<keras.callbacks.History at 0x11271230af0>"
      ]
     },
     "execution_count": 18,
     "metadata": {},
     "output_type": "execute_result"
    }
   ],
   "source": [
    "model.fit(x_train,y_train,epochs=100,validation_split=0.05)"
   ]
  },
  {
   "cell_type": "code",
   "execution_count": 19,
   "id": "e2afb08a",
   "metadata": {},
   "outputs": [
    {
     "name": "stdout",
     "output_type": "stream",
     "text": [
      "4/4 [==============================] - 0s 2ms/step - loss: 22.8111 - mae: 3.1185\n"
     ]
    }
   ],
   "source": [
    "output = model.evaluate(x_test,y_test)"
   ]
  },
  {
   "cell_type": "code",
   "execution_count": 20,
   "id": "b7bf34bd",
   "metadata": {},
   "outputs": [
    {
     "name": "stdout",
     "output_type": "stream",
     "text": [
      "Mean Squared Error: 22.811100006103516\n",
      "Mean Absolute Error: 3.1185410022735596\n"
     ]
    }
   ],
   "source": [
    "print(f\"Mean Squared Error: {output[0]}\"\n",
    "      ,f\"Mean Absolute Error: {output[1]}\",sep=\"\\n\")"
   ]
  },
  {
   "cell_type": "code",
   "execution_count": 21,
   "id": "85333e40",
   "metadata": {},
   "outputs": [
    {
     "name": "stdout",
     "output_type": "stream",
     "text": [
      "4/4 [==============================] - 0s 2ms/step\n"
     ]
    }
   ],
   "source": [
    "y_pred = model.predict(x=x_test)"
   ]
  },
  {
   "cell_type": "code",
   "execution_count": 22,
   "id": "4be4c127",
   "metadata": {},
   "outputs": [
    {
     "name": "stdout",
     "output_type": "stream",
     "text": [
      "(array([25.25803], dtype=float32), 28.4) (array([31.101715], dtype=float32), 31.1) (array([26.337902], dtype=float32), 23.5) (array([27.640797], dtype=float32), 26.6) (array([18.648403], dtype=float32), 19.6) (array([16.546442], dtype=float32), 14.3) (array([42.626904], dtype=float32), 50.0) (array([14.003817], dtype=float32), 14.3) (array([19.689577], dtype=float32), 20.7) (array([43.55066], dtype=float32), 37.6) (array([17.658094], dtype=float32), 20.4) (array([27.011719], dtype=float32), 27.5) (array([22.622902], dtype=float32), 36.2) (array([32.543083], dtype=float32), 32.0) (array([31.268934], dtype=float32), 33.1) (array([52.796986], dtype=float32), 48.8) (array([26.051449], dtype=float32), 24.6) (array([19.066635], dtype=float32), 26.4) (array([21.324453], dtype=float32), 23.2) (array([19.671131], dtype=float32), 17.0) (array([33.806507], dtype=float32), 41.3) (array([15.584135], dtype=float32), 14.9) (array([22.53099], dtype=float32), 18.5) (array([25.125456], dtype=float32), 25.0) (array([37.41526], dtype=float32), 36.4) (array([20.80418], dtype=float32), 19.5) (array([18.265533], dtype=float32), 27.1) (array([16.610994], dtype=float32), 14.9) (array([43.46652], dtype=float32), 46.0) (array([10.758344], dtype=float32), 17.9) (array([35.721664], dtype=float32), 30.3) (array([32.558002], dtype=float32), 31.6) (array([26.751564], dtype=float32), 23.1) (array([24.303514], dtype=float32), 24.7) (array([15.057557], dtype=float32), 16.7) (array([19.27374], dtype=float32), 18.3) (array([8.626819], dtype=float32), 8.4) (array([32.248043], dtype=float32), 37.3) (array([25.044739], dtype=float32), 22.1) (array([24.757618], dtype=float32), 22.0) (array([39.38294], dtype=float32), 46.7) (array([26.594913], dtype=float32), 30.1) (array([13.7125635], dtype=float32), 12.1) (array([29.586855], dtype=float32), 29.1) (array([17.37838], dtype=float32), 16.6) (array([27.534445], dtype=float32), 23.9) (array([17.82965], dtype=float32), 19.9) (array([18.524353], dtype=float32), 21.4) (array([45.10636], dtype=float32), 45.4) (array([15.918641], dtype=float32), 15.6) (array([20.282358], dtype=float32), 22.7) (array([14.447092], dtype=float32), 12.5) (array([20.459923], dtype=float32), 24.3) (array([39.865814], dtype=float32), 43.8) (array([24.27646], dtype=float32), 22.0) (array([35.74127], dtype=float32), 33.8) (array([19.148647], dtype=float32), 19.3) (array([18.821222], dtype=float32), 22.6) (array([21.238375], dtype=float32), 16.1) (array([21.838326], dtype=float32), 15.0) (array([18.506306], dtype=float32), 19.6) (array([21.139137], dtype=float32), 21.2) (array([52.20603], dtype=float32), 50.0) (array([56.967697], dtype=float32), 50.0) (array([27.96944], dtype=float32), 29.4) (array([14.395759], dtype=float32), 17.8) (array([25.019756], dtype=float32), 22.8) (array([11.963656], dtype=float32), 8.8) (array([27.707722], dtype=float32), 32.5) (array([40.634525], dtype=float32), 42.8) (array([16.555265], dtype=float32), 12.6) (array([28.56873], dtype=float32), 28.6) (array([17.490639], dtype=float32), 19.1) (array([21.453205], dtype=float32), 50.0) (array([21.590042], dtype=float32), 27.5) (array([11.903705], dtype=float32), 23.7) (array([49.227535], dtype=float32), 50.0) (array([9.728378], dtype=float32), 7.2) (array([19.392204], dtype=float32), 18.7) (array([33.064053], dtype=float32), 37.0) (array([20.165894], dtype=float32), 22.9) (array([25.380733], dtype=float32), 22.9) (array([19.392477], dtype=float32), 17.1) (array([25.029343], dtype=float32), 22.0) (array([31.53612], dtype=float32), 23.6) (array([25.875221], dtype=float32), 23.9) (array([26.31433], dtype=float32), 27.1) (array([34.8018], dtype=float32), 29.0) (array([24.40039], dtype=float32), 22.2) (array([10.815322], dtype=float32), 7.0) (array([23.521038], dtype=float32), 20.7) (array([20.338844], dtype=float32), 18.5) (array([24.228825], dtype=float32), 21.6) (array([24.739317], dtype=float32), 23.0) (array([18.362564], dtype=float32), 16.0) (array([19.240673], dtype=float32), 15.0) (array([25.861393], dtype=float32), 23.9) (array([19.31041], dtype=float32), 24.4) (array([21.123413], dtype=float32), 22.6) (array([18.703573], dtype=float32), 19.8) (array([22.076897], dtype=float32), 22.2) (array([19.853516], dtype=float32), 18.6) (array([19.307657], dtype=float32), 19.7) (array([23.190868], dtype=float32), 23.1) (array([13.055221], dtype=float32), 13.5) (array([21.151722], dtype=float32), 21.2) (array([18.325794], dtype=float32), 23.1) (array([15.239326], dtype=float32), 13.6) (array([28.9444], dtype=float32), 22.8) (array([22.701637], dtype=float32), 18.2) (array([11.384616], dtype=float32), 13.1) (array([17.812775], dtype=float32), 23.2) (array([25.177284], dtype=float32), 22.8) (array([25.168291], dtype=float32), 25.1) (array([21.747118], dtype=float32), 18.9) (array([13.448535], dtype=float32), 10.9) (array([14.021806], dtype=float32), 19.3) (array([20.16504], dtype=float32), 17.4) (array([17.685757], dtype=float32), 15.6) (array([19.71125], dtype=float32), 20.6) (array([30.039124], dtype=float32), 50.0) (array([35.970303], dtype=float32), 32.7) (array([20.562454], dtype=float32), 21.8) (array([16.339134], dtype=float32), 13.4) (array([16.958612], dtype=float32), 16.6) (array([23.884224], dtype=float32), 23.6) (array([12.625253], dtype=float32), 11.0)\n"
     ]
    }
   ],
   "source": [
    "print(*zip(y_pred,y_test))"
   ]
  },
  {
   "cell_type": "code",
   "execution_count": 23,
   "id": "fbaee296",
   "metadata": {},
   "outputs": [
    {
     "data": {
      "image/png": "[encoded data removed]",
      "text/plain": [
       "<Figure size 432x288 with 2 Axes>"
      ]
     },
     "metadata": {
      "needs_background": "light"
     },
     "output_type": "display_data"
    }
   ],
   "source": [
    "import numpy as np\n",
    "import seaborn as sns\n",
    "import matplotlib.pyplot as plt\n",
    "# Create a heatmap\n",
    "sns.heatmap(df)\n",
    "\n",
    "# Show the plot\n",
    "plt.show()\n"
   ]
  },
  {
   "cell_type": "code",
   "execution_count": null,
   "id": "9597c3a3",
   "metadata": {},
   "outputs": [],
   "source": []
  }
 ],
 "metadata": {
  "kernelspec": {
   "display_name": "Python 3 (ipykernel)",
   "language": "python",
   "name": "python3"
  },
  "language_info": {
   "codemirror_mode": {
    "name": "ipython",
    "version": 3
   },
   "file_extension": ".py",
   "mimetype": "text/x-python",
   "name": "python",
   "nbconvert_exporter": "python",
   "pygments_lexer": "ipython3",
   "version": "3.10.11"
  }
 },
 "nbformat": 4,
 "nbformat_minor": 5
}
